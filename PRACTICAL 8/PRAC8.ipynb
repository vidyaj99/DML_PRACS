{
  "nbformat": 4,
  "nbformat_minor": 0,
  "metadata": {
    "colab": {
      "name": "DML_PRAC 8.ipynb",
      "provenance": []
    },
    "kernelspec": {
      "name": "python3",
      "display_name": "Python 3"
    },
    "language_info": {
      "name": "python"
    }
  },
  "cells": [
    {
      "cell_type": "code",
      "execution_count": 23,
      "metadata": {
        "id": "JgJUPu2ftWyB"
      },
      "outputs": [],
      "source": [
        "import tensorflow as tf\n",
        "from keras.preprocessing.image import ImageDataGenerator"
      ]
    },
    {
      "cell_type": "code",
      "source": [
        "train_datagen = ImageDataGenerator(rescale=1./255, shear_range=0.2, zoom_range=0.2, horizontal_flip=True)\n",
        "training_set = train_datagen.flow_from_directory('/content/drive/MyDrive/small_dataset/training_set', target_size=(64,64), batch_size=32, class_mode='binary')"
      ],
      "metadata": {
        "colab": {
          "base_uri": "https://localhost:8080/"
        },
        "id": "u1lE_oUjtkp-",
        "outputId": "da5609ca-f4a9-4dcc-bde7-d4a31c092170"
      },
      "execution_count": 46,
      "outputs": [
        {
          "output_type": "stream",
          "name": "stdout",
          "text": [
            "Found 10 images belonging to 2 classes.\n"
          ]
        }
      ]
    },
    {
      "cell_type": "code",
      "source": [
        "train_datagen = ImageDataGenerator(rescale=1./255, shear_range=0.2, zoom_range=0.2, horizontal_flip=True)\n",
        "test_set = train_datagen.flow_from_directory('/content/drive/MyDrive/small_dataset/test_set', target_size=(64,64), batch_size=32, class_mode='binary')"
      ],
      "metadata": {
        "colab": {
          "base_uri": "https://localhost:8080/"
        },
        "id": "JNctXOoTyFrT",
        "outputId": "eff6c8a7-5167-4bda-d3fa-e3ee52c8da3d"
      },
      "execution_count": 48,
      "outputs": [
        {
          "output_type": "stream",
          "name": "stdout",
          "text": [
            "Found 10 images belonging to 2 classes.\n"
          ]
        }
      ]
    },
    {
      "cell_type": "code",
      "source": [
        "cnn = tf.keras.models.Sequential()"
      ],
      "metadata": {
        "id": "8gKbwifiyO3b"
      },
      "execution_count": 49,
      "outputs": []
    },
    {
      "cell_type": "code",
      "source": [
        "cnn.add(tf.keras.layers.Conv2D(filters=32, kernel_size=3, activation='relu', input_shape=[64,64,3]))"
      ],
      "metadata": {
        "id": "c9gG_lEZyZ-s"
      },
      "execution_count": 50,
      "outputs": []
    },
    {
      "cell_type": "code",
      "source": [
        "cnn.add(tf.keras.layers.MaxPool2D(pool_size=2, strides=2))"
      ],
      "metadata": {
        "id": "Wn-GnYOZznwC"
      },
      "execution_count": 51,
      "outputs": []
    },
    {
      "cell_type": "code",
      "source": [
        "cnn.add(tf.keras.layers.Conv2D(filters=32, kernel_size=3, activation='relu'))\n",
        "cnn.add(tf.keras.layers.MaxPool2D(pool_size=2, strides=2))"
      ],
      "metadata": {
        "id": "67ohWz0jywoT"
      },
      "execution_count": 52,
      "outputs": []
    },
    {
      "cell_type": "code",
      "source": [
        "cnn.add(tf.keras.layers.Flatten())"
      ],
      "metadata": {
        "id": "GGVIddC40Cq6"
      },
      "execution_count": 53,
      "outputs": []
    },
    {
      "cell_type": "code",
      "source": [
        "cnn.add(tf.keras.layers.Dense(units=128, activation='relu'))"
      ],
      "metadata": {
        "id": "CFzUTmQO0sl5"
      },
      "execution_count": 54,
      "outputs": []
    },
    {
      "cell_type": "code",
      "source": [
        "cnn.add(tf.keras.layers.Dense(units=1, activation='sigmoid'))"
      ],
      "metadata": {
        "id": "D-SX4j2V0_sq"
      },
      "execution_count": 55,
      "outputs": []
    },
    {
      "cell_type": "code",
      "source": [
        "cnn.compile(optimizer='adam', loss='binary_crossentropy', metrics=['accuracy'])"
      ],
      "metadata": {
        "id": "NNZ5j1iS1KII"
      },
      "execution_count": 56,
      "outputs": []
    },
    {
      "cell_type": "code",
      "source": [
        "cnn.fit(x=training_set, validation_data=test_set, epochs=25)"
      ],
      "metadata": {
        "colab": {
          "base_uri": "https://localhost:8080/"
        },
        "id": "Z6fUq1LC1f54",
        "outputId": "da86e79e-c4a5-4fab-c0c2-53f8c1342584"
      },
      "execution_count": 57,
      "outputs": [
        {
          "output_type": "stream",
          "name": "stdout",
          "text": [
            "Epoch 1/25\n",
            "1/1 [==============================] - 1s 897ms/step - loss: 0.7015 - accuracy: 0.5000 - val_loss: 0.7160 - val_accuracy: 0.5000\n",
            "Epoch 2/25\n",
            "1/1 [==============================] - 0s 227ms/step - loss: 0.6286 - accuracy: 0.9000 - val_loss: 0.7793 - val_accuracy: 0.5000\n",
            "Epoch 3/25\n",
            "1/1 [==============================] - 0s 224ms/step - loss: 0.6135 - accuracy: 0.5000 - val_loss: 0.7770 - val_accuracy: 0.5000\n",
            "Epoch 4/25\n",
            "1/1 [==============================] - 0s 230ms/step - loss: 0.6256 - accuracy: 0.4000 - val_loss: 0.7575 - val_accuracy: 0.4000\n",
            "Epoch 5/25\n",
            "1/1 [==============================] - 0s 211ms/step - loss: 0.5565 - accuracy: 0.9000 - val_loss: 0.7845 - val_accuracy: 0.4000\n",
            "Epoch 6/25\n",
            "1/1 [==============================] - 0s 227ms/step - loss: 0.5275 - accuracy: 0.7000 - val_loss: 0.7606 - val_accuracy: 0.4000\n",
            "Epoch 7/25\n",
            "1/1 [==============================] - 0s 224ms/step - loss: 0.4220 - accuracy: 0.9000 - val_loss: 0.7868 - val_accuracy: 0.6000\n",
            "Epoch 8/25\n",
            "1/1 [==============================] - 0s 220ms/step - loss: 0.3937 - accuracy: 0.9000 - val_loss: 0.8448 - val_accuracy: 0.4000\n",
            "Epoch 9/25\n",
            "1/1 [==============================] - 0s 225ms/step - loss: 0.3387 - accuracy: 0.9000 - val_loss: 0.8835 - val_accuracy: 0.5000\n",
            "Epoch 10/25\n",
            "1/1 [==============================] - 0s 235ms/step - loss: 0.6409 - accuracy: 0.7000 - val_loss: 0.8624 - val_accuracy: 0.5000\n",
            "Epoch 11/25\n",
            "1/1 [==============================] - 0s 230ms/step - loss: 0.2896 - accuracy: 0.9000 - val_loss: 0.9250 - val_accuracy: 0.3000\n",
            "Epoch 12/25\n",
            "1/1 [==============================] - 0s 221ms/step - loss: 0.2462 - accuracy: 1.0000 - val_loss: 0.9689 - val_accuracy: 0.3000\n",
            "Epoch 13/25\n",
            "1/1 [==============================] - 0s 233ms/step - loss: 0.3876 - accuracy: 0.8000 - val_loss: 1.0227 - val_accuracy: 0.4000\n",
            "Epoch 14/25\n",
            "1/1 [==============================] - 0s 246ms/step - loss: 0.3234 - accuracy: 0.9000 - val_loss: 0.9538 - val_accuracy: 0.4000\n",
            "Epoch 15/25\n",
            "1/1 [==============================] - 0s 228ms/step - loss: 0.2728 - accuracy: 1.0000 - val_loss: 1.0767 - val_accuracy: 0.4000\n",
            "Epoch 16/25\n",
            "1/1 [==============================] - 0s 227ms/step - loss: 0.2297 - accuracy: 1.0000 - val_loss: 1.2349 - val_accuracy: 0.3000\n",
            "Epoch 17/25\n",
            "1/1 [==============================] - 0s 242ms/step - loss: 0.2275 - accuracy: 0.9000 - val_loss: 1.2494 - val_accuracy: 0.3000\n",
            "Epoch 18/25\n",
            "1/1 [==============================] - 0s 229ms/step - loss: 0.1389 - accuracy: 1.0000 - val_loss: 1.2898 - val_accuracy: 0.1000\n",
            "Epoch 19/25\n",
            "1/1 [==============================] - 0s 240ms/step - loss: 0.1304 - accuracy: 1.0000 - val_loss: 1.3273 - val_accuracy: 0.1000\n",
            "Epoch 20/25\n",
            "1/1 [==============================] - 0s 228ms/step - loss: 0.1246 - accuracy: 1.0000 - val_loss: 1.4391 - val_accuracy: 0.1000\n",
            "Epoch 21/25\n",
            "1/1 [==============================] - 0s 234ms/step - loss: 0.0923 - accuracy: 1.0000 - val_loss: 1.4823 - val_accuracy: 0.1000\n",
            "Epoch 22/25\n",
            "1/1 [==============================] - 0s 235ms/step - loss: 0.0688 - accuracy: 1.0000 - val_loss: 1.6860 - val_accuracy: 0.2000\n",
            "Epoch 23/25\n",
            "1/1 [==============================] - 0s 228ms/step - loss: 0.0876 - accuracy: 1.0000 - val_loss: 1.6947 - val_accuracy: 0.1000\n",
            "Epoch 24/25\n",
            "1/1 [==============================] - 0s 222ms/step - loss: 0.0465 - accuracy: 1.0000 - val_loss: 1.6785 - val_accuracy: 0.1000\n",
            "Epoch 25/25\n",
            "1/1 [==============================] - 0s 240ms/step - loss: 0.0378 - accuracy: 1.0000 - val_loss: 1.8124 - val_accuracy: 0.2000\n"
          ]
        },
        {
          "output_type": "execute_result",
          "data": {
            "text/plain": [
              "<keras.callbacks.History at 0x7f51dbd279d0>"
            ]
          },
          "metadata": {},
          "execution_count": 57
        }
      ]
    },
    {
      "cell_type": "code",
      "source": [
        "import numpy as np\n",
        "from keras.preprocessing import image\n",
        "test_image=image.load_img('/content/drive/MyDrive/small_dataset/single_prediction/cat_or_dog_1.jpg', target_size=(64,64))\n",
        "test_image=image.img_to_array(test_image)\n",
        "test_image=np.expand_dims(test_image, axis=0)\n",
        "result=cnn.predict(test_image)\n",
        "training_set.class_indices\n",
        "if result[0][0]==1:\n",
        "  prediction='dog'\n",
        "else:\n",
        "  prediction='cat'"
      ],
      "metadata": {
        "id": "CjTaAIah13mR"
      },
      "execution_count": 62,
      "outputs": []
    },
    {
      "cell_type": "code",
      "source": [
        "print(prediction)"
      ],
      "metadata": {
        "colab": {
          "base_uri": "https://localhost:8080/"
        },
        "id": "u3wpKPBs3jh3",
        "outputId": "b4dc7c2a-c429-45d2-8b5c-6380e9d59809"
      },
      "execution_count": 63,
      "outputs": [
        {
          "output_type": "stream",
          "name": "stdout",
          "text": [
            "dog\n"
          ]
        }
      ]
    }
  ]
}